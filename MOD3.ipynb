{
  "metadata": {
    "language_info": {
      "codemirror_mode": {
        "name": "python",
        "version": 3
      },
      "file_extension": ".py",
      "mimetype": "text/x-python",
      "name": "python",
      "nbconvert_exporter": "python",
      "pygments_lexer": "ipython3",
      "version": "3.8"
    },
    "kernelspec": {
      "name": "python",
      "display_name": "Python (Pyodide)",
      "language": "python"
    }
  },
  "nbformat_minor": 4,
  "nbformat": 4,
  "cells": [
    {
      "cell_type": "code",
      "source": "things = [\"mozzarella\", \"cinderella\", \"salmonella\"]\nthings\n['mozzarella', 'cinderella', 'salmonella']",
      "metadata": {
        "trusted": true
      },
      "execution_count": 3,
      "outputs": [
        {
          "execution_count": 3,
          "output_type": "execute_result",
          "data": {
            "text/plain": "['mozzarella', 'cinderella', 'salmonella']"
          },
          "metadata": {}
        }
      ]
    },
    {
      "cell_type": "code",
      "source": "things[1].capitalize()\n'Cinderella'\nthings\n['mozzarella', 'cinderella', 'salmonella']",
      "metadata": {
        "trusted": true
      },
      "execution_count": 5,
      "outputs": [
        {
          "execution_count": 5,
          "output_type": "execute_result",
          "data": {
            "text/plain": "['mozzarella', 'cinderella', 'salmonella']"
          },
          "metadata": {}
        }
      ]
    },
    {
      "cell_type": "code",
      "source": "things[0] = things[0].upper()\nthings\n['MOZZARELLA', 'Cinderella', 'salmonella']",
      "metadata": {
        "trusted": true
      },
      "execution_count": 6,
      "outputs": [
        {
          "execution_count": 6,
          "output_type": "execute_result",
          "data": {
            "text/plain": "['MOZZARELLA', 'Cinderella', 'salmonella']"
          },
          "metadata": {}
        }
      ]
    },
    {
      "cell_type": "code",
      "source": "things.remove(\"salmonella\")\nthings\n['MOZZARELLA', 'Cinderella']",
      "metadata": {
        "trusted": true
      },
      "execution_count": 7,
      "outputs": [
        {
          "execution_count": 7,
          "output_type": "execute_result",
          "data": {
            "text/plain": "['MOZZARELLA', 'Cinderella']"
          },
          "metadata": {}
        }
      ]
    },
    {
      "cell_type": "code",
      "source": "def good():\n    return ['Harry', 'Ron', 'Hermione']\n\ngood()\n['Harry', 'Ron', 'Hermione']",
      "metadata": {
        "trusted": true
      },
      "execution_count": 8,
      "outputs": [
        {
          "execution_count": 8,
          "output_type": "execute_result",
          "data": {
            "text/plain": "['Harry', 'Ron', 'Hermione']"
          },
          "metadata": {}
        }
      ]
    },
    {
      "cell_type": "code",
      "source": ">>> def get_odds():\n...     for number in range(1, 10, 2):\n...         yield number\n...\n>>> count = 1\n>>> for number in get_odds():\n...     if count == 3:\n...         print(\"The third odd number is\", number)\n...         break\n...     count += 1",
      "metadata": {
        "trusted": true
      },
      "execution_count": 10,
      "outputs": [
        {
          "name": "stdout",
          "text": "The third odd number is 5\n",
          "output_type": "stream"
        }
      ]
    },
    {
      "cell_type": "code",
      "source": "",
      "metadata": {},
      "execution_count": null,
      "outputs": []
    }
  ]
}